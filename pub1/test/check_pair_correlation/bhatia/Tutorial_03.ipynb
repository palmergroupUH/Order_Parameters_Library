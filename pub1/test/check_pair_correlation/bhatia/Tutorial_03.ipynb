{
 "cells": [
  {
   "cell_type": "markdown",
   "metadata": {},
   "source": [
    "### Tutorial 03:   Bhatia Thornton analysis\n"
   ]
  },
  {
   "cell_type": "code",
   "execution_count": null,
   "metadata": {},
   "outputs": [],
   "source": [
    "# Python standard library\n",
    "import os\n",
    "import sys \n",
    "from ctypes import CDLL, c_int, c_double, c_long, c_float, byref\n",
    "\n",
    "# Local library:\n",
    "import IO.reader\n",
    "from IO.type_conversion import string_to_ctypes_string,\\\n",
    "                               int_to_ctypes_int,\\\n",
    "                               np_to_ctypes_array\n",
    "\n",
    "# Perform Bhatia Thornton anlysis\n",
    "from pub1.Bhatia_Thornton import load_multiple_hist_file,\\\n",
    "                                 compute_pair_correl_from_hist_file,\\\n",
    "                                 compute_Bhatia_Thornton_ssf\n",
    "\n",
    "# Third-party:\n",
    "import numpy as np\n",
    "import matplotlib.pyplot as plt \n",
    "\n",
    "\n",
    "\n",
    "Temperature = [3375, 3400, 3425, 3450, 3500, 3550, 3600, 3700, 3800] \n",
    "\n",
    "subdir = [\"LDL_LDL\", \"HDL_HDL\", \"HDL_LDL\"] \n",
    "#subdir = [\"All\"]\n",
    "\n",
    "R_ranges = np.linspace(4.28, 4.32, 5)  \n",
    "\n",
    "Q_ranges = np.array([0, 50])\n",
    "\n",
    "num_bins_q = 800 \n",
    "\n",
    "x_H_frac = 0.5 \n",
    "\n",
    "x_L_frac = 0.5 \n",
    "\n",
    "for temp in Temperature: \n",
    "    \n",
    "    data_lst = []  \n",
    "\n",
    "    for folder in subdir:\n",
    "\n",
    "        directory = os.path.join(\"%s_K\" % temp, folder)\n",
    "\n",
    "        all_files = list(os.walk(directory))\n",
    "\n",
    "        feature = \"RDF_HIST_\" + folder\n",
    "\n",
    "        for ifile in all_files[0][2]:\n",
    "\n",
    "            if (feature in ifile):\n",
    "\n",
    "               file_path = os.path.join(directory, ifile)\n",
    "\n",
    "               data_lst.append(file_path)\n",
    "\n",
    "    r_mid_lst, r2hr_lst = compute_pair_correl_from_hist_file(data_lst,\n",
    "                                                             \"pair_correl\",\n",
    "                                                             corrected=True,\n",
    "                                                             R_ranges=R_ranges,\n",
    "                                                             Q_ranges=Q_ranges,\n",
    "                                                             num_bins_q = num_bins_q)\n",
    "\n",
    "\n",
    "    #np.savetxt(\"total_pair_correl/r2hr_all_%d_K.txt\"%temp, np.c_[r_mid_lst[0], r2hr_lst[0]] ) \n",
    "\n",
    "    np.savetxt(\"bhatia/r2hr_high_q_high_q_%d_K.txt\" % temp, np.c_[r_mid_lst[0], r2hr_lst[0]] )\n",
    "    np.savetxt(\"bhatia/r2hr_low_q_low_q_%d_K.txt\" % temp, np.c_[r_mid_lst[1], r2hr_lst[1]] )\n",
    "    np.savetxt(\"bhatia/r2hr_high_q_low_q_%d_K.txt\" % temp, np.c_[r_mid_lst[2], r2hr_lst[2]] )\n",
    "\n",
    "    Q_mid, SNN, SCC, SNC = compute_Bhatia_Thornton_ssf(data_lst, R_ranges, Q_ranges, num_bins_q, x_H_frac, x_L_frac)\n",
    "\n",
    "    np.savetxt(\"bhatia/SNN_%d_K.txt\" % temp, np.c_[Q_mid, SNN])\n",
    "    np.savetxt(\"bhatia/SCC_%d_K.txt\" % temp, np.c_[Q_mid, SCC])\n",
    "    np.savetxt(\"bhatia/SNC_%d_K.txt\" % temp, np.c_[Q_mid, SNC])\n",
    "    \n",
    "    "
   ]
  },
  {
   "cell_type": "markdown",
   "metadata": {},
   "source": [
    "<img src=\"fig1a.png\" width=600 />\n"
   ]
  },
  {
   "cell_type": "markdown",
   "metadata": {},
   "source": [
    "<img src=\"fig2b.png\" width=600 />"
   ]
  },
  {
   "cell_type": "code",
   "execution_count": null,
   "metadata": {},
   "outputs": [],
   "source": []
  }
 ],
 "metadata": {
  "kernelspec": {
   "display_name": "Python 3",
   "language": "python",
   "name": "python3"
  },
  "language_info": {
   "codemirror_mode": {
    "name": "ipython",
    "version": 3
   },
   "file_extension": ".py",
   "mimetype": "text/x-python",
   "name": "python",
   "nbconvert_exporter": "python",
   "pygments_lexer": "ipython3",
   "version": "3.7.6"
  }
 },
 "nbformat": 4,
 "nbformat_minor": 4
}
