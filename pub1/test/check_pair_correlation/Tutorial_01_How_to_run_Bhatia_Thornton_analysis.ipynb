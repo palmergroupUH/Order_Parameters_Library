{
 "cells": [
  {
   "cell_type": "markdown",
   "metadata": {},
   "source": [
    "### Tutorial 01: How to run Bhatia Thornton analysis"
   ]
  },
  {
   "cell_type": "markdown",
   "metadata": {},
   "source": [
    "### Description: \n",
    "* Assume you have successfully installed the package (all Python modules are in the environment path) \n",
    "* The following scripts are used to launch the Bhatia Thoronton analysis. \n",
    "\n",
    "### Before you run the script: \n",
    "\n",
    "In your current working directory: \n",
    "* You have a template folder containing the Python scripts to run Bhatia Thoronton analysis \n",
    "* You have trajectories somewhere ready to be analyzed\n",
    "\n",
    "### After you run the script: \n",
    "In your current working directory: \n",
    "\n",
    "    \n",
    "* This scripts will create several directories locally with name depending on the \"Temperature\" you specified\n",
    "* Within each \"Tempearture\" directory, there will be several subdirectories depending on the \"keyword\" options: \"HDL\", \"LDL\", \"HDL_LDL\" and \"All\"\n",
    "    \n"
   ]
  },
  {
   "cell_type": "code",
   "execution_count": null,
   "metadata": {},
   "outputs": [],
   "source": [
    "# Python standard library\n",
    "import os\n",
    "import sys \n",
    "import time \n",
    "\n",
    "# Local\n",
    "\n",
    "# Third-Party libraries\n",
    "\n",
    "# list of temperature (K) to be analyzed:\n",
    "\n",
    "Temperature = [3375, 3400, 3425, 3450, 3500, 3550, 3600, 3700, 3800] \n",
    "#Temperature = [3375] \n",
    "\n",
    "# list of trajectories:\n",
    "traj = [\"3375_run2.dcd\", \"3400_run2.dcd\", \"3425_run2.dcd\", \"3450_run2.dcd\", \"3500_run2.dcd\", \"3550.dcd\", \"3600.dcd\", \"3700.dcd\", \"3800.dcd\"]\n",
    "#traj = [\"3375_run2.dcd\"]\n",
    "\n",
    "# trajectories path:\n",
    "traj_path = '/project/palmer/Jingxiang/Trajectories/Publication_mWAC/traj/'\n",
    "\n",
    "keyword = '\"LDL_LDL\"'\n",
    "\n",
    "HOME = os.getcwd() \n",
    "\n",
    "modified_file = \"run_bhatia_thornton.py\"\n",
    "\n",
    "for temp, dcdfile in zip(Temperature, traj) : \n",
    "\n",
    "    trajpath = os.path.join(traj_path, dcdfile)\n",
    "\n",
    "    trajpath = '\"' + trajpath + '\"' \n",
    "\n",
    "    shell_cmd_1 = \"sed -i '89c T = %d' \" % temp \n",
    "\n",
    "    shell_cmd_2 = \"sed -i '92c dcdfile = %s'\" % trajpath \n",
    "\n",
    "    shell_cmd_3 = \"sed -i '97c keyword = %s'\" % keyword \n",
    "    # first level of directory\n",
    "    wk_folder = \"%d_K\" % temp\n",
    "\n",
    "    # second level\n",
    "    wk_folder = os.path.join(wk_folder, keyword.replace('\"', ''))\n",
    "\n",
    "    copy_cmd = \"cp template/* %s\" % wk_folder\n",
    "\n",
    "    if (not os.path.isdir(wk_folder)):\n",
    "\n",
    "        os.makedirs(wk_folder)\n",
    "\n",
    "    os.system(copy_cmd)\n",
    "\n",
    "    os.chdir(wk_folder)\n",
    "\n",
    "    os.system(shell_cmd_1 + \" \" + modified_file)\n",
    "\n",
    "    os.system(shell_cmd_2 + \" \" + modified_file)\n",
    "\n",
    "    os.system(shell_cmd_3 + \" \" + modified_file)\n",
    "\n",
    "    os.system(\"sbatch run_script\")\n",
    "\n",
    "    os.chdir(HOME)\n",
    "\n",
    "    time.sleep(1)\n"
   ]
  },
  {
   "cell_type": "code",
   "execution_count": null,
   "metadata": {},
   "outputs": [],
   "source": []
  }
 ],
 "metadata": {
  "kernelspec": {
   "display_name": "Python 3",
   "language": "python",
   "name": "python3"
  },
  "language_info": {
   "codemirror_mode": {
    "name": "ipython",
    "version": 3
   },
   "file_extension": ".py",
   "mimetype": "text/x-python",
   "name": "python",
   "nbconvert_exporter": "python",
   "pygments_lexer": "ipython3",
   "version": "3.7.6"
  }
 },
 "nbformat": 4,
 "nbformat_minor": 4
}
