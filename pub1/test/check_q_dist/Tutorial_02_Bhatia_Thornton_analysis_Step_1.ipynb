{
 "cells": [
  {
   "cell_type": "markdown",
   "metadata": {},
   "source": [
    "###  Tutorial 02: Run Bhatia-Thornton Analysis"
   ]
  },
  {
   "cell_type": "markdown",
   "metadata": {},
   "source": [
    "\n",
    "### Instructions:  \n",
    "* Label two species as \"high q\" or \"low q\" based on the median q value \n",
    "    * All particles' q values are sorted and median q values are obtained\n",
    "    * if a particle's q value > median q, then it is labeled as high q otherwise it is low q \n",
    "* compute pair correlation functions between \"high q\" or \"low q\". \n",
    "    * Based on the q median, high-q and low-q particles coordinates are used in the pair correlation functions"
   ]
  },
  {
   "cell_type": "code",
   "execution_count": null,
   "metadata": {},
   "outputs": [],
   "source": [
    "# Python standard library\n",
    "import os\n",
    "import sys\n",
    "from ctypes import CDLL, c_int, c_double, c_long, c_float, byref\n",
    "\n",
    "# Local library:\n",
    "import IO.reader\n",
    "from IO.type_conversion import string_to_ctypes_string,\\\n",
    "                               int_to_ctypes_int,\\\n",
    "                               np_to_ctypes_array\n",
    "\n",
    "# Perform Bhatia Thornton anlysis\n",
    "from pub1.Bhatia_Thornton import compute_q_tetra, initialize_hist,\\\n",
    "                                 update_pair_correl_hist, normalize_hist, \\\n",
    "                                 compute_pair_correl, update_hist, \\\n",
    "                                 normalize_pair_correl_hist, \\\n",
    "                                 write_hist_file\n",
    "\n",
    "# Third-party:\n",
    "import numpy as np\n",
    "import matplotlib.pyplot as plt"
   ]
  },
  {
   "cell_type": "code",
   "execution_count": null,
   "metadata": {},
   "outputs": [],
   "source": [
    "def compute_high_low_q_correlation(keyword, An_to_nm, T, dcdfile):\n",
    "\n",
    "    # preprocessing the trajectories to extract total number of atoms and frames\n",
    "    total_atoms, total_frames = IO.reader.call_read_header(dcdfile)\n",
    "\n",
    "    # set the number of bins for q distribution\n",
    "    num_bins_q_dist = 300\n",
    "\n",
    "    # set the number of bins for RDF\n",
    "    num_bins_rdf = 250\n",
    "\n",
    "    # initialize q tetrahedral histogram\n",
    "    q_tetra_hist, q_interval, q_range = initialize_hist(num_bins_q_dist, -3.0, 1.0)\n",
    "\n",
    "    # get box size\n",
    "    xyz, box = IO.reader.call_read_dcd_xyz_box(dcdfile, 1, total_atoms, return_numpy=True)\n",
    "\n",
    "    half_box_size  = box.min()/(2.0*An_to_nm)\n",
    "\n",
    "    # initialize pair_correlation histogram\n",
    "    RDF_hist, rdf_interval, rdf_range = initialize_hist(num_bins_rdf, 0.0, half_box_size)\n",
    "\n",
    "    # set the frame counter to count number of configurations used\n",
    "    frame_counter = 0\n",
    "\n",
    "    # loop over all frames\n",
    "    for i in range(total_frames):\n",
    "\n",
    "        # read xyz coordinates\n",
    "        xyz, box = IO.reader.call_read_dcd_xyz_box(dcdfile, i+1, total_atoms, return_numpy=False)\n",
    "\n",
    "        # compute q tetrahedral order parameter\n",
    "        q_sorted_indx, q_tetra = compute_q_tetra(total_atoms, xyz, box)\n",
    "\n",
    "        # update q distribution\n",
    "        q_tetra_hist = update_hist(total_atoms, q_tetra, q_interval, -3.0, 1.0, num_bins_q_dist, q_tetra_hist)\n",
    "\n",
    "        # compute the pair correlation between species\n",
    "        new_hist, norm_atom = compute_pair_correl(keyword, num_bins_rdf, total_atoms, xyz, box, q_sorted_indx)\n",
    "\n",
    "        # update pair correlation distribution\n",
    "        update_pair_correl_hist(num_bins_rdf, new_hist, RDF_hist)\n",
    "\n",
    "        frame_counter += 1\n",
    "\n",
    "    # normalize q tetrahedral order parameter distribution\n",
    "    r_mid, q_norm = normalize_hist(q_range, num_bins_q_dist, q_interval, q_tetra_hist)\n",
    "\n",
    "    # normalize the RDF\n",
    "    r2hr, gr = normalize_pair_correl_hist(RDF_hist, num_bins_rdf, half_box_size, norm_atom, frame_counter, box)\n",
    "\n",
    "    # write out the RDF histogram for different\n",
    "    write_hist_file(keyword, total_atoms, box, frame_counter, rdf_interval, num_bins_rdf, RDF_hist)\n",
    "    \n",
    "    # write out the normalized r2hr\n",
    "    np.savetxt(\"r2hr.txt\", np.c_[r2hr])\n",
    "\n",
    "    # write q tetrahedral distribution\n",
    "\n",
    "    np.savetxt(\"q_normalized_%d_run2.txt\" % T, np.c_[r_mid, q_norm])\n",
    "\n",
    "    return None\n"
   ]
  },
  {
   "cell_type": "code",
   "execution_count": null,
   "metadata": {},
   "outputs": [],
   "source": [
    "# Run the analysis by providing the Temperature and dcdfile address \n",
    "\n",
    "# temperature will be used for file identifiers\n",
    "T_MODIFY = 3425\n",
    "\n",
    "# DCD file path\n",
    "dcdfile_MODIFY = \"/project/palmer/Jingxiang/Trajectories/Publication_mWAC/traj/3425_run2.dcd\"\n",
    "\n",
    "# keyword type for pair correlation functions:\n",
    "# \"LDL_LDL\" -> high q - high q\n",
    "# \"HDL_HDL\" -> low q - low q\n",
    "# \"HDL_LDL\" -> low q - high q\n",
    "# \"All\" -> all molecules\n",
    "keyword_MODIFY = \"All\"\n",
    "\n",
    "# convert Angstrom to nm, the trajectories used \"nm\" for length\n",
    "An_to_nm = 10\n",
    "\n",
    "# run the analysis by submitting the job through slurm script or equivalent\n",
    "compute_high_low_q_correlation(keyword, An_to_nm, T, dcdfile)\n"
   ]
  },
  {
   "cell_type": "markdown",
   "metadata": {},
   "source": [
    "### Plot the q tetrahedral order parameter distribution\n",
    "<img src=\"fig2a.png\" width=600 />\n"
   ]
  },
  {
   "cell_type": "markdown",
   "metadata": {},
   "source": [
    "### Reference: \n",
    "\n",
    "[1] S. Overduin and G. Patey.  Understanding the structure factor and isothermalcompressibility of ambient water in terms of local structural environments. *J.Phys. Chem. B*, 116(39):12014–12020, 2012.\n",
    "\n",
    "[2] S. D. Overduin and G. N. Patey.   An analysis of fluctuations in supercooledTIP4P/2005 water. *J. Chem. Phys.*, 138(18):184502, 2013\n",
    "\n",
    "[3] S. D. Overduin and G. N. Patey. Fluctuations and local ice structure in modelsupercooled water. *J. Chem. Phys.*, 143(9):094504, 2015.\n",
    "    \n",
    "[4] J. Guo, R. S. Singh, and J. C. Palmer. Anomalous scattering in supercooled st2water. *Mol. Phys.*, 116:1953–1964, 2018 \n",
    "\n",
    "[5] J. Guo and J. C. Palmer.   Fluctuations near the liquid–liquid transition in amodel of silica. *Phys. Chem. Chem. Phys.*, 20:25195–25202, 2018"
   ]
  },
  {
   "cell_type": "code",
   "execution_count": null,
   "metadata": {},
   "outputs": [],
   "source": []
  }
 ],
 "metadata": {
  "kernelspec": {
   "display_name": "Python 3",
   "language": "python",
   "name": "python3"
  },
  "language_info": {
   "codemirror_mode": {
    "name": "ipython",
    "version": 3
   },
   "file_extension": ".py",
   "mimetype": "text/x-python",
   "name": "python",
   "nbconvert_exporter": "python",
   "pygments_lexer": "ipython3",
   "version": "3.7.6"
  }
 },
 "nbformat": 4,
 "nbformat_minor": 4
}
